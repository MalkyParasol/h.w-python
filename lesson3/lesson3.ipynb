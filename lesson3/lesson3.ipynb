{
 "cells": [
  {
   "cell_type": "markdown",
   "id": "195eaffb-33ee-4e83-99cf-720117cb559b",
   "metadata": {},
   "source": [
    "תרגיל 1: יצירת מערך ובדיקת תכונותיה\n",
    "\n",
    "תיאור: צרי מערך של 10 מספרים שלמים באקראי בין 1 ל-50. בדקי את גודל המערך, סוג הנתונים ומספר הממדים שלו."
   ]
  },
  {
   "cell_type": "code",
   "execution_count": 1,
   "id": "f7447352-92af-4fc0-87ba-7222f5901b06",
   "metadata": {},
   "outputs": [
    {
     "name": "stdout",
     "output_type": "stream",
     "text": [
      "Note: you may need to restart the kernel to use updated packages.\n",
      "Collecting numpy\n",
      "  Downloading numpy-1.26.3-cp310-cp310-win_amd64.whl.metadata (61 kB)\n",
      "     ---------------------------------------- 0.0/61.2 kB ? eta -:--:--\n",
      "     ------------------------- ------------ 41.0/61.2 kB 960.0 kB/s eta 0:00:01\n",
      "     -------------------------------------- 61.2/61.2 kB 809.0 kB/s eta 0:00:00\n",
      "Downloading numpy-1.26.3-cp310-cp310-win_amd64.whl (15.8 MB)\n",
      "   ---------------------------------------- 0.0/15.8 MB ? eta -:--:--\n",
      "   ---------------------------------------- 0.0/15.8 MB 1.4 MB/s eta 0:00:12\n",
      "   ---------------------------------------- 0.1/15.8 MB 1.2 MB/s eta 0:00:13\n",
      "    --------------------------------------- 0.3/15.8 MB 2.4 MB/s eta 0:00:07\n",
      "   - -------------------------------------- 0.6/15.8 MB 3.5 MB/s eta 0:00:05\n",
      "   -- ------------------------------------- 1.0/15.8 MB 4.3 MB/s eta 0:00:04\n",
      "   --- ------------------------------------ 1.4/15.8 MB 5.3 MB/s eta 0:00:03\n",
      "   ---- ----------------------------------- 1.8/15.8 MB 5.8 MB/s eta 0:00:03\n",
      "   ----- ---------------------------------- 2.3/15.8 MB 6.3 MB/s eta 0:00:03\n",
      "   ------ --------------------------------- 2.7/15.8 MB 6.6 MB/s eta 0:00:02\n",
      "   ------- -------------------------------- 3.1/15.8 MB 6.8 MB/s eta 0:00:02\n",
      "   -------- ------------------------------- 3.5/15.8 MB 7.1 MB/s eta 0:00:02\n",
      "   ---------- ----------------------------- 4.0/15.8 MB 7.2 MB/s eta 0:00:02\n",
      "   ----------- ---------------------------- 4.4/15.8 MB 7.2 MB/s eta 0:00:02\n",
      "   ------------ --------------------------- 4.8/15.8 MB 7.3 MB/s eta 0:00:02\n",
      "   ------------- -------------------------- 5.2/15.8 MB 7.4 MB/s eta 0:00:02\n",
      "   -------------- ------------------------- 5.6/15.8 MB 7.6 MB/s eta 0:00:02\n",
      "   --------------- ------------------------ 6.0/15.8 MB 7.5 MB/s eta 0:00:02\n",
      "   ---------------- ----------------------- 6.3/15.8 MB 7.8 MB/s eta 0:00:02\n",
      "   ---------------- ----------------------- 6.3/15.8 MB 7.8 MB/s eta 0:00:02\n",
      "   ---------------- ----------------------- 6.4/15.8 MB 7.0 MB/s eta 0:00:02\n",
      "   ---------------- ----------------------- 6.6/15.8 MB 6.9 MB/s eta 0:00:02\n",
      "   ----------------- ---------------------- 6.9/15.8 MB 6.9 MB/s eta 0:00:02\n",
      "   ------------------ --------------------- 7.3/15.8 MB 6.9 MB/s eta 0:00:02\n",
      "   ------------------- -------------------- 7.8/15.8 MB 7.0 MB/s eta 0:00:02\n",
      "   -------------------- ------------------- 8.2/15.8 MB 7.1 MB/s eta 0:00:02\n",
      "   --------------------- ------------------ 8.6/15.8 MB 7.1 MB/s eta 0:00:02\n",
      "   ---------------------- ----------------- 9.0/15.8 MB 7.1 MB/s eta 0:00:01\n",
      "   ----------------------- ---------------- 9.4/15.8 MB 7.2 MB/s eta 0:00:01\n",
      "   ------------------------ --------------- 9.8/15.8 MB 7.3 MB/s eta 0:00:01\n",
      "   ------------------------- -------------- 10.1/15.8 MB 7.2 MB/s eta 0:00:01\n",
      "   -------------------------- ------------- 10.5/15.8 MB 7.9 MB/s eta 0:00:01\n",
      "   --------------------------- ------------ 11.0/15.8 MB 7.9 MB/s eta 0:00:01\n",
      "   ---------------------------- ----------- 11.4/15.8 MB 8.0 MB/s eta 0:00:01\n",
      "   ----------------------------- ---------- 11.8/15.8 MB 7.9 MB/s eta 0:00:01\n",
      "   ------------------------------- -------- 12.3/15.8 MB 7.9 MB/s eta 0:00:01\n",
      "   ------------------------------- -------- 12.6/15.8 MB 7.8 MB/s eta 0:00:01\n",
      "   -------------------------------- ------- 13.0/15.8 MB 7.8 MB/s eta 0:00:01\n",
      "   --------------------------------- ------ 13.4/15.8 MB 7.8 MB/s eta 0:00:01\n",
      "   ----------------------------------- ---- 13.9/15.8 MB 7.8 MB/s eta 0:00:01\n",
      "   ------------------------------------ --- 14.3/15.8 MB 7.9 MB/s eta 0:00:01\n",
      "   ------------------------------------- -- 14.7/15.8 MB 7.9 MB/s eta 0:00:01\n",
      "   -------------------------------------- - 15.2/15.8 MB 7.9 MB/s eta 0:00:01\n",
      "   ---------------------------------------  15.5/15.8 MB 7.8 MB/s eta 0:00:01\n",
      "   ---------------------------------------  15.8/15.8 MB 7.7 MB/s eta 0:00:01\n",
      "   ---------------------------------------- 15.8/15.8 MB 7.5 MB/s eta 0:00:00\n",
      "Installing collected packages: numpy\n"
     ]
    },
    {
     "name": "stderr",
     "output_type": "stream",
     "text": [
      "  WARNING: Failed to write executable - trying to use .deleteme logic\n",
      "ERROR: Could not install packages due to an OSError: [WinError 2] The system cannot find the file specified: 'C:\\\\Python310\\\\Scripts\\\\f2py.exe' -> 'C:\\\\Python310\\\\Scripts\\\\f2py.exe.deleteme'\n",
      "\n"
     ]
    }
   ],
   "source": [
    "pip install numpy"
   ]
  },
  {
   "cell_type": "code",
   "execution_count": 2,
   "id": "05d98bde-5a18-4843-9f98-795a7cafcbf8",
   "metadata": {},
   "outputs": [],
   "source": [
    "import numpy as np"
   ]
  },
  {
   "cell_type": "code",
   "execution_count": 20,
   "id": "f1de4cb9-4080-48f4-a5c0-bac7a08ce912",
   "metadata": {},
   "outputs": [
    {
     "name": "stdout",
     "output_type": "stream",
     "text": [
      "[45  5 21 32 26 41 14  4 33  5]\n",
      "int32\n"
     ]
    }
   ],
   "source": [
    "random_array = np.random.randint(1,50,size = (10))\n",
    "print(random_array)\n",
    "print(random_array.dtype)\n",
    "\n"
   ]
  },
  {
   "cell_type": "code",
   "execution_count": 19,
   "id": "055a78d2-204f-4472-bf6e-47d2aab89418",
   "metadata": {},
   "outputs": [
    {
     "data": {
      "text/plain": [
       "1"
      ]
     },
     "execution_count": 19,
     "metadata": {},
     "output_type": "execute_result"
    }
   ],
   "source": [
    "np.ndim(random_array)"
   ]
  },
  {
   "cell_type": "code",
   "execution_count": 21,
   "id": "c7d5f391-6aef-4d1d-8f5a-bec789262a2a",
   "metadata": {},
   "outputs": [
    {
     "data": {
      "text/plain": [
       "10"
      ]
     },
     "execution_count": 21,
     "metadata": {},
     "output_type": "execute_result"
    }
   ],
   "source": [
    "random_array.size"
   ]
  },
  {
   "cell_type": "markdown",
   "id": "bfe5244c-8848-4757-9143-7ec8179f68cf",
   "metadata": {},
   "source": [
    "תרגיל 2: יצירת מערך דו-ממדי\n",
    "\n",
    "תיאור: צרי מערך דו-ממדי עם 2 שורות ו-5 עמודות של מספרים אקראיים בין 10 ל-100. בדקי את הצורה של המערך."
   ]
  },
  {
   "cell_type": "code",
   "execution_count": 23,
   "id": "e5e5a821-44b5-4ca3-b961-a60dfc59ace0",
   "metadata": {},
   "outputs": [
    {
     "data": {
      "text/plain": [
       "array([[0., 0., 0., 0., 0.],\n",
       "       [0., 0., 0., 0., 0.]])"
      ]
     },
     "execution_count": 23,
     "metadata": {},
     "output_type": "execute_result"
    }
   ],
   "source": [
    "try_zeros = np.random.randint(size=(2, 5))\n",
    "try_zeros"
   ]
  },
  {
   "cell_type": "code",
   "execution_count": null,
   "id": "89e0128e-7bce-4b54-a852-738c8d85adcf",
   "metadata": {},
   "outputs": [],
   "source": []
  }
 ],
 "metadata": {
  "kernelspec": {
   "display_name": "Python 3 (ipykernel)",
   "language": "python",
   "name": "python3"
  },
  "language_info": {
   "codemirror_mode": {
    "name": "ipython",
    "version": 3
   },
   "file_extension": ".py",
   "mimetype": "text/x-python",
   "name": "python",
   "nbconvert_exporter": "python",
   "pygments_lexer": "ipython3",
   "version": "3.10.8"
  }
 },
 "nbformat": 4,
 "nbformat_minor": 5
}
