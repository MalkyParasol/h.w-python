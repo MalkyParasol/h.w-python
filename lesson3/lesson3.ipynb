{
 "cells": [
  {
   "cell_type": "markdown",
   "id": "195eaffb-33ee-4e83-99cf-720117cb559b",
   "metadata": {},
   "source": [
    "תרגיל 1: יצירת מערך ובדיקת תכונותיה\n",
    "\n",
    "תיאור: צרי מערך של 10 מספרים שלמים באקראי בין 1 ל-50. בדקי את גודל המערך, סוג הנתונים ומספר הממדים שלו."
   ]
  },
  {
   "cell_type": "code",
   "execution_count": 22,
   "id": "f7447352-92af-4fc0-87ba-7222f5901b06",
   "metadata": {},
   "outputs": [
    {
     "name": "stdout",
     "output_type": "stream",
     "text": [
      "Requirement already satisfied: numpy in c:\\python310\\lib\\site-packages (1.26.4)\n",
      "Note: you may need to restart the kernel to use updated packages.\n"
     ]
    },
    {
     "name": "stderr",
     "output_type": "stream",
     "text": [
      "\n",
      "[notice] A new release of pip is available: 23.3.2 -> 24.0\n",
      "[notice] To update, run: python.exe -m pip install --upgrade pip\n"
     ]
    }
   ],
   "source": [
    "pip install numpy"
   ]
  },
  {
   "cell_type": "code",
   "execution_count": 23,
   "id": "05d98bde-5a18-4843-9f98-795a7cafcbf8",
   "metadata": {},
   "outputs": [],
   "source": [
    "import numpy as np"
   ]
  },
  {
   "cell_type": "code",
   "execution_count": 24,
   "id": "f1de4cb9-4080-48f4-a5c0-bac7a08ce912",
   "metadata": {},
   "outputs": [
    {
     "name": "stdout",
     "output_type": "stream",
     "text": [
      "[12 12 43 49 12 19 25 37 38  6]\n",
      "int32\n"
     ]
    }
   ],
   "source": [
    "random_array = np.random.randint(1,50,size = (10))\n",
    "print(random_array)\n",
    "print(random_array.dtype)\n",
    "\n"
   ]
  },
  {
   "cell_type": "code",
   "execution_count": 25,
   "id": "055a78d2-204f-4472-bf6e-47d2aab89418",
   "metadata": {},
   "outputs": [
    {
     "data": {
      "text/plain": [
       "1"
      ]
     },
     "execution_count": 25,
     "metadata": {},
     "output_type": "execute_result"
    }
   ],
   "source": [
    "np.ndim(random_array)"
   ]
  },
  {
   "cell_type": "code",
   "execution_count": 26,
   "id": "c7d5f391-6aef-4d1d-8f5a-bec789262a2a",
   "metadata": {},
   "outputs": [
    {
     "data": {
      "text/plain": [
       "10"
      ]
     },
     "execution_count": 26,
     "metadata": {},
     "output_type": "execute_result"
    }
   ],
   "source": [
    "random_array.size"
   ]
  },
  {
   "cell_type": "markdown",
   "id": "bfe5244c-8848-4757-9143-7ec8179f68cf",
   "metadata": {},
   "source": [
    "תרגיל 2: יצירת מערך דו-ממדי\n",
    "\n",
    "תיאור: צרי מערך דו-ממדי עם 2 שורות ו-5 עמודות של מספרים אקראיים בין 10 ל-100. בדקי את הצורה של המערך."
   ]
  },
  {
   "cell_type": "code",
   "execution_count": 28,
   "id": "e5e5a821-44b5-4ca3-b961-a60dfc59ace0",
   "metadata": {},
   "outputs": [
    {
     "data": {
      "text/plain": [
       "array([[0, 1, 0, 0, 1],\n",
       "       [2, 1, 2, 3, 0]])"
      ]
     },
     "execution_count": 28,
     "metadata": {},
     "output_type": "execute_result"
    }
   ],
   "source": [
    "try_zeros = np.random.randint(5 ,size=(2, 5))\n",
    "try_zeros"
   ]
  },
  {
   "cell_type": "markdown",
   "id": "664fbbe1-c520-4711-bdef-24f83a591e5f",
   "metadata": {},
   "source": [
    "צרי מערך באורך 10 של מספרים שלמים רנדומליים בין 1 ל-50 וחשבי את הממוצע של המספרים"
   ]
  },
  {
   "cell_type": "code",
   "execution_count": 29,
   "id": "7b9b9c27-5f9f-4441-b448-9f8762497a6c",
   "metadata": {},
   "outputs": [
    {
     "data": {
      "text/plain": [
       "array([ 5, 42,  4,  9, 40,  8, 20, 26,  1, 19])"
      ]
     },
     "execution_count": 29,
     "metadata": {},
     "output_type": "execute_result"
    }
   ],
   "source": [
    "myArray = np.random.randint(1,50,size=(10))\n",
    "myArray"
   ]
  },
  {
   "cell_type": "markdown",
   "id": "083bc78f-0569-4b40-9d9a-07d5a97b98f9",
   "metadata": {},
   "source": [
    "צרי שני מערכים דו מימדיים בגודל 3, חברי אותם, ובדקי מה הממוצע של התוצאה"
   ]
  },
  {
   "cell_type": "code",
   "execution_count": 31,
   "id": "ff3dfd05-c04b-4c6e-b98c-b202e72b4b14",
   "metadata": {},
   "outputs": [
    {
     "data": {
      "text/plain": [
       "array([[1, 2, 3],\n",
       "       [4, 5, 6],\n",
       "       [5, 6, 7]])"
      ]
     },
     "execution_count": 31,
     "metadata": {},
     "output_type": "execute_result"
    }
   ],
   "source": [
    "a = np.array([[1, 2, 3], [4, 5, 6], [5, 6, 7]])\n",
    "a"
   ]
  },
  {
   "cell_type": "code",
   "execution_count": 32,
   "id": "0d1db4e7-78ec-4f58-ade9-d6d9b1796a6e",
   "metadata": {},
   "outputs": [
    {
     "data": {
      "text/plain": [
       "array([[ 8,  9, 10],\n",
       "       [11, 12, 13],\n",
       "       [14, 15, 16]])"
      ]
     },
     "execution_count": 32,
     "metadata": {},
     "output_type": "execute_result"
    }
   ],
   "source": [
    "b = np.array([[8, 9 ,10], [11, 12, 13], [14, 15, 16]])\n",
    "b"
   ]
  },
  {
   "cell_type": "code",
   "execution_count": 33,
   "id": "4af33ea4-0f90-42ac-91a2-7732785b2fbd",
   "metadata": {},
   "outputs": [
    {
     "data": {
      "text/plain": [
       "array([[ 9, 11, 13],\n",
       "       [15, 17, 19],\n",
       "       [19, 21, 23]])"
      ]
     },
     "execution_count": 33,
     "metadata": {},
     "output_type": "execute_result"
    }
   ],
   "source": [
    "connected = a+b\n",
    "connected\n"
   ]
  },
  {
   "cell_type": "code",
   "execution_count": 34,
   "id": "03fb055b-fab7-4fca-894a-3f981395bef7",
   "metadata": {},
   "outputs": [
    {
     "data": {
      "text/plain": [
       "16.333333333333332"
      ]
     },
     "execution_count": 34,
     "metadata": {},
     "output_type": "execute_result"
    }
   ],
   "source": [
    "avg = np.mean(connected)\n",
    "avg"
   ]
  },
  {
   "cell_type": "markdown",
   "id": "d5c60fec-66a8-4444-b6dc-8c404ae4fb73",
   "metadata": {},
   "source": [
    "רי מערך של 20 מספרים שלמים רנדומליים בין 1 ל-100. מצאי את כל המספרים שגדולים מ-50 במערך זה"
   ]
  },
  {
   "cell_type": "code",
   "execution_count": 35,
   "id": "ce329270-65f5-4782-802a-66745d42ae25",
   "metadata": {},
   "outputs": [
    {
     "data": {
      "text/plain": [
       "array([11, 59, 42, 79, 60, 33, 45, 17, 72, 31, 76, 45, 65, 47, 11, 66, 33,\n",
       "       65, 30, 81])"
      ]
     },
     "execution_count": 35,
     "metadata": {},
     "output_type": "execute_result"
    }
   ],
   "source": [
    "hh = np.random.randint(1,100,size=(20))\n",
    "hh\n"
   ]
  },
  {
   "cell_type": "code",
   "execution_count": 37,
   "id": "ec829cdf-3c49-4bbc-b6e9-67cafb5ea3d3",
   "metadata": {},
   "outputs": [
    {
     "data": {
      "text/plain": [
       "array([59, 79, 60, 72, 76, 65, 66, 65, 81])"
      ]
     },
     "execution_count": 37,
     "metadata": {},
     "output_type": "execute_result"
    }
   ],
   "source": [
    "condition = hh>50\n",
    "big = hh[condition]\n",
    "big"
   ]
  },
  {
   "cell_type": "markdown",
   "id": "c673e087-7a37-46f9-b29f-2c17afe303d4",
   "metadata": {},
   "source": [
    "רי מערך של מספרים מ-1 עד 10. ערבבי את המערך ולאחר מכן בחרי באופן אקראי אלמנטים ממנו"
   ]
  },
  {
   "cell_type": "code",
   "execution_count": 39,
   "id": "07c43ef0-ccfb-46a0-9e79-d5c48c2340f0",
   "metadata": {},
   "outputs": [
    {
     "data": {
      "text/plain": [
       "[1, 2, 3, 4, 5, 6, 7, 8, 9, 10]"
      ]
     },
     "execution_count": 39,
     "metadata": {},
     "output_type": "execute_result"
    }
   ],
   "source": [
    "arr = ([1,2,3,4,5,6,7,8,9,10])\n",
    "arr"
   ]
  },
  {
   "cell_type": "code",
   "execution_count": 44,
   "id": "4c716c2b-de71-4106-987b-af6ea51c4d94",
   "metadata": {},
   "outputs": [
    {
     "data": {
      "text/plain": [
       "[1, 10, 7, 6, 5, 9, 3, 4, 8, 2]"
      ]
     },
     "execution_count": 44,
     "metadata": {},
     "output_type": "execute_result"
    }
   ],
   "source": [
    "np.random.shuffle(arr)\n",
    "arr"
   ]
  },
  {
   "cell_type": "code",
   "execution_count": 48,
   "id": "7c0bf58e-2caa-4361-8ffc-3a2475cab746",
   "metadata": {},
   "outputs": [
    {
     "ename": "SyntaxError",
     "evalue": "invalid syntax (1575899030.py, line 2)",
     "output_type": "error",
     "traceback": [
      "\u001b[1;36m  Cell \u001b[1;32mIn[48], line 2\u001b[1;36m\u001b[0m\n\u001b[1;33m    and = arr[cond]\u001b[0m\n\u001b[1;37m    ^\u001b[0m\n\u001b[1;31mSyntaxError\u001b[0m\u001b[1;31m:\u001b[0m invalid syntax\n"
     ]
    }
   ],
   "source": [
    "cond = arr>0\n",
    "and = arr[cond]\n",
    "and"
   ]
  },
  {
   "cell_type": "code",
   "execution_count": null,
   "id": "781384c2-2238-4c71-83c2-2c2028d80523",
   "metadata": {},
   "outputs": [],
   "source": []
  }
 ],
 "metadata": {
  "kernelspec": {
   "display_name": "Python 3 (ipykernel)",
   "language": "python",
   "name": "python3"
  },
  "language_info": {
   "codemirror_mode": {
    "name": "ipython",
    "version": 3
   },
   "file_extension": ".py",
   "mimetype": "text/x-python",
   "name": "python",
   "nbconvert_exporter": "python",
   "pygments_lexer": "ipython3",
   "version": "3.10.8"
  }
 },
 "nbformat": 4,
 "nbformat_minor": 5
}
